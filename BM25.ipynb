{
  "nbformat": 4,
  "nbformat_minor": 0,
  "metadata": {
    "colab": {
      "name": "BM25",
      "provenance": [],
      "include_colab_link": true
    },
    "kernelspec": {
      "name": "python3",
      "display_name": "Python 3"
    }
  },
  "cells": [
    {
      "cell_type": "markdown",
      "metadata": {
        "id": "view-in-github",
        "colab_type": "text"
      },
      "source": [
        "<a href=\"https://colab.research.google.com/github/shrestha-bikash/BM25/blob/master/BM25.ipynb\" target=\"_parent\"><img src=\"https://colab.research.google.com/assets/colab-badge.svg\" alt=\"Open In Colab\"/></a>"
      ]
    },
    {
      "cell_type": "markdown",
      "metadata": {
        "id": "TRB_hwVufqMp",
        "colab_type": "text"
      },
      "source": [
        "#Load the data"
      ]
    },
    {
      "cell_type": "code",
      "metadata": {
        "id": "hxUoAeGhfjx6",
        "colab_type": "code",
        "colab": {
          "base_uri": "https://localhost:8080/",
          "height": 170
        },
        "outputId": "f08effee-d589-40ec-fc71-118951206f45"
      },
      "source": [
        "import pandas as pd\n",
        "import numpy as np\n",
        "\n",
        "\n",
        "url = 'https://raw.githubusercontent.com/shrestha-bikash/BM25/master/BM25Data.csv'\n",
        "df1 = pd.read_csv(url)\n",
        "\n",
        "print(df1)\n",
        "# total number of documents\n",
        "N = df1.shape[0]\n",
        "\n",
        "# average length of documents\n",
        "L = df1['DocumentL'].mean()\n",
        "\n",
        "#constants\n",
        "k = 1.2\n",
        "b = 0.75\n",
        "\n",
        "DF1 = df1['FreqWord1'].astype(bool).sum(axis=0)\n",
        "DF2 = df1['FreqWord2'].astype(bool).sum(axis=0)\n",
        "\n",
        "print('avg doc length: ', L)\n",
        "print('document freq for word1: ', DF1)\n",
        "print('document freq for word2: ', DF2)\n"
      ],
      "execution_count": 13,
      "outputs": [
        {
          "output_type": "stream",
          "text": [
            "   DocumentId  DocumentL  FreqWord1  FreqWord2\n",
            "0           1         50          0         78\n",
            "1           2         80         56          6\n",
            "2           3         20         45         89\n",
            "3           4        200         89         23\n",
            "4           5         10         76          0\n",
            "avg doc length:  72.0\n",
            "document freq for word1:  4\n",
            "document freq for word2:  4\n"
          ],
          "name": "stdout"
        }
      ]
    },
    {
      "cell_type": "markdown",
      "metadata": {
        "id": "9YtjRGtUIT9d",
        "colab_type": "text"
      },
      "source": [
        "# Utility Functions"
      ]
    },
    {
      "cell_type": "code",
      "metadata": {
        "id": "b0bOl0HEh7V1",
        "colab_type": "code",
        "colab": {}
      },
      "source": [
        "def idf(N, DF):\n",
        "    Y = (N - DF + 0.5)/(DF + 0.5)\n",
        "    return np.log(Y)\n",
        "\n",
        "\n",
        "def bm25(k, b, tf, d, L, idf):\n",
        "    Y = idf * (tf * (k + 1))/(tf + k * (1 - b + b * d/L))\n",
        "    return Y"
      ],
      "execution_count": 0,
      "outputs": []
    },
    {
      "cell_type": "markdown",
      "metadata": {
        "id": "unTbVxL7Iaua",
        "colab_type": "text"
      },
      "source": [
        "# Calculating BM25 Score"
      ]
    },
    {
      "cell_type": "code",
      "metadata": {
        "id": "ZILkKVAazwAG",
        "colab_type": "code",
        "colab": {
          "base_uri": "https://localhost:8080/",
          "height": 442
        },
        "outputId": "340375b6-c291-4a7b-b585-a407b276071c"
      },
      "source": [
        "IDF1 = idf(N, DF1)\n",
        "IDF2 = idf(N, DF2)\n",
        "\n",
        "for i in range(0, N):\n",
        "    TF1 = df1['FreqWord1'][i]\n",
        "    TF2 = df1['FreqWord2'][i]\n",
        "    d = df1['DocumentL'][i]\n",
        "\n",
        "    bm1 = bm25(k, b, TF1, d, L, IDF1)\n",
        "    print('bm1: ', bm1)\n",
        "\n",
        "    bm2 = bm25(k, b, TF2, d, L, IDF2)\n",
        "    print('bm2: ', bm2)\n",
        "\n",
        "    bm25_score = (bm1 + bm2)\n",
        "    print('BM25 score: ', bm25_score)\n",
        "    print('\\n')\n",
        "\n",
        "\n"
      ],
      "execution_count": 9,
      "outputs": [
        {
          "output_type": "stream",
          "text": [
            "bm1:  -0.0\n",
            "bm2:  -2.3886204464421623\n",
            "BM25 score:  -2.3886204464421623\n",
            "\n",
            "\n",
            "bm1:  -2.3621122855830916\n",
            "bm2:  -1.9865318096464453\n",
            "BM25 score:  -4.348644095229536\n",
            "\n",
            "\n",
            "bm1:  -2.3877632618692184\n",
            "bm2:  -2.402102580918101\n",
            "BM25 score:  -4.78986584278732\n",
            "\n",
            "\n",
            "bm1:  -2.343227517660304\n",
            "bm2:  -2.154642705682417\n",
            "BM25 score:  -4.497870223342721\n",
            "\n",
            "\n",
            "bm1:  -2.403506374423395\n",
            "bm2:  -0.0\n",
            "BM25 score:  -2.403506374423395\n",
            "\n",
            "\n"
          ],
          "name": "stdout"
        }
      ]
    }
  ]
}